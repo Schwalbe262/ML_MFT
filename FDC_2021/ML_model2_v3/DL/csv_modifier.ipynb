{
 "cells": [
  {
   "cell_type": "code",
   "execution_count": 1,
   "source": [
    "import pandas\r\n",
    "\r\n",
    "filename = \"Data_2021_08_12_v1.csv\"\r\n",
    "\r\n",
    "csv = pandas.read_csv(filename)\r\n",
    "csv = csv.dropna(axis=0).reset_index(drop=True)#drop NaN\r\n",
    "\r\n",
    "array_len = len(csv)\r\n",
    "\r\n",
    "for i in range(0, array_len): \r\n",
    "\r\n",
    "    csv['I1'][i] = csv['I1'][i].replace('i', 'j')\r\n",
    "    csv['I2'][i] = csv['I2'][i].replace('i', 'j')\r\n",
    "    csv['I1'][i] = csv['I1'][i].replace(' ', '')\r\n",
    "    csv['I2'][i] = csv['I2'][i].replace(' ', '')\r\n",
    "    csv['I1'][i] = complex(csv['I1'][i]).real\r\n",
    "    csv['I2'][i] = complex(csv['I2'][i]).real\r\n",
    "    \r\n",
    "\r\n",
    "csv['I1'] = pandas.to_numeric(csv['I1'], downcast=\"float\")\r\n",
    "csv['I2'] = pandas.to_numeric(csv['I2'], downcast=\"float\")\r\n",
    "\r\n",
    "csv.to_csv(\"Data_2021_08_12_v1_m.csv\", mode='w')"
   ],
   "outputs": [
    {
     "output_type": "stream",
     "name": "stderr",
     "text": [
      "C:\\Users\\USER\\AppData\\Local\\Temp/ipykernel_22268/1695819556.py:12: SettingWithCopyWarning: \n",
      "A value is trying to be set on a copy of a slice from a DataFrame\n",
      "\n",
      "See the caveats in the documentation: https://pandas.pydata.org/pandas-docs/stable/user_guide/indexing.html#returning-a-view-versus-a-copy\n",
      "  csv['I1'][i] = csv['I1'][i].replace('i', 'j')\n",
      "C:\\Users\\USER\\AppData\\Local\\Temp/ipykernel_22268/1695819556.py:13: SettingWithCopyWarning: \n",
      "A value is trying to be set on a copy of a slice from a DataFrame\n",
      "\n",
      "See the caveats in the documentation: https://pandas.pydata.org/pandas-docs/stable/user_guide/indexing.html#returning-a-view-versus-a-copy\n",
      "  csv['I2'][i] = csv['I2'][i].replace('i', 'j')\n",
      "C:\\Users\\USER\\AppData\\Local\\Temp/ipykernel_22268/1695819556.py:14: SettingWithCopyWarning: \n",
      "A value is trying to be set on a copy of a slice from a DataFrame\n",
      "\n",
      "See the caveats in the documentation: https://pandas.pydata.org/pandas-docs/stable/user_guide/indexing.html#returning-a-view-versus-a-copy\n",
      "  csv['I1'][i] = csv['I1'][i].replace(' ', '')\n",
      "C:\\Users\\USER\\AppData\\Local\\Temp/ipykernel_22268/1695819556.py:15: SettingWithCopyWarning: \n",
      "A value is trying to be set on a copy of a slice from a DataFrame\n",
      "\n",
      "See the caveats in the documentation: https://pandas.pydata.org/pandas-docs/stable/user_guide/indexing.html#returning-a-view-versus-a-copy\n",
      "  csv['I2'][i] = csv['I2'][i].replace(' ', '')\n",
      "C:\\Users\\USER\\AppData\\Local\\Temp/ipykernel_22268/1695819556.py:16: SettingWithCopyWarning: \n",
      "A value is trying to be set on a copy of a slice from a DataFrame\n",
      "\n",
      "See the caveats in the documentation: https://pandas.pydata.org/pandas-docs/stable/user_guide/indexing.html#returning-a-view-versus-a-copy\n",
      "  csv['I1'][i] = complex(csv['I1'][i]).real\n",
      "C:\\Users\\USER\\AppData\\Local\\Temp/ipykernel_22268/1695819556.py:17: SettingWithCopyWarning: \n",
      "A value is trying to be set on a copy of a slice from a DataFrame\n",
      "\n",
      "See the caveats in the documentation: https://pandas.pydata.org/pandas-docs/stable/user_guide/indexing.html#returning-a-view-versus-a-copy\n",
      "  csv['I2'][i] = complex(csv['I2'][i]).real\n"
     ]
    }
   ],
   "metadata": {}
  }
 ],
 "metadata": {
  "orig_nbformat": 4,
  "language_info": {
   "name": "python",
   "version": "3.8.8",
   "mimetype": "text/x-python",
   "codemirror_mode": {
    "name": "ipython",
    "version": 3
   },
   "pygments_lexer": "ipython3",
   "nbconvert_exporter": "python",
   "file_extension": ".py"
  },
  "kernelspec": {
   "name": "python3",
   "display_name": "Python 3.8.8 64-bit ('NEC_stable': conda)"
  },
  "interpreter": {
   "hash": "ce0a3c3998a9e4d114d0a4ed508ce2ffb5b6f910b2edfcfe97935762ddbe31b9"
  }
 },
 "nbformat": 4,
 "nbformat_minor": 2
}