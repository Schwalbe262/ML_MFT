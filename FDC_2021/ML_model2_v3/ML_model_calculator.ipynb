{
 "metadata": {
  "language_info": {
   "codemirror_mode": {
    "name": "ipython",
    "version": 3
   },
   "file_extension": ".py",
   "mimetype": "text/x-python",
   "name": "python",
   "nbconvert_exporter": "python",
   "pygments_lexer": "ipython3",
   "version": "3.8.8"
  },
  "orig_nbformat": 4,
  "kernelspec": {
   "name": "python3",
   "display_name": "Python 3.8.8 64-bit ('NEC_stable': conda)"
  },
  "interpreter": {
   "hash": "ce0a3c3998a9e4d114d0a4ed508ce2ffb5b6f910b2edfcfe97935762ddbe31b9"
  }
 },
 "nbformat": 4,
 "nbformat_minor": 2,
 "cells": [
  {
   "cell_type": "code",
   "execution_count": 10,
   "source": [
    "# import ML data\r\n",
    "import pandas\r\n",
    "import pycaret\r\n",
    "\r\n",
    "from pycaret.regression import load_model\r\n",
    "\r\n",
    "ML_model_Lmt = load_model(\"ML_model2_v3_2021_08_11_v1_Lmt\") # Lmt model\r\n",
    "ML_model_Lmr = load_model(\"ML_model2_v3_2021_08_11_v1_Lmr\") # Lmr model\r\n",
    "ML_model_R1 = load_model(\"ML_model2_v3_2021_08_11_v1_R1\") # R1 model\r\n",
    "ML_model_R2 = load_model(\"ML_model2_v3_2021_08_11_v1_R2\") # R2 model"
   ],
   "outputs": [
    {
     "output_type": "stream",
     "name": "stdout",
     "text": [
      "Transformation Pipeline and Model Successfully Loaded\n",
      "Transformation Pipeline and Model Successfully Loaded\n",
      "Transformation Pipeline and Model Successfully Loaded\n",
      "Transformation Pipeline and Model Successfully Loaded\n"
     ]
    }
   ],
   "metadata": {}
  },
  {
   "cell_type": "code",
   "execution_count": 21,
   "source": [
    "param = [[14,20,1.63,1.63,40000.0,3.3803405961441784,3.9538667100069826,-6.594546382365916,1.4179468078634523,3499.9079910726045,4.613156646833773,8.848628045653925,4.349896027037269,8.591267684403107,2.3679183015769536,2.3376475368768346,8.078461228288639,16.22514958076636,41.74185705276444,21.131551598772184,4.36,3.17]]\r\n",
    "param2 = pandas.DataFrame(param,columns=[\"N1\",\"N2\",\"d1\",\"d2\",\"freq\",\"move_tx\",\"move_rx\",\"offset_tx\",\"offset_rx\",\"per\",\"space1\",\"space2\",\"space3\",\"space4\",\"space5\",\"space6\",\"l1\", \"l2\", \"h1\", \"w1\", \"I1\", \"I2\"])\r\n",
    "\r\n",
    "Lmt = ML_model_Lmt.predict(param2)[0]*1e-3\r\n",
    "Lmr = ML_model_Lmr.predict(param2)[0]*1e-3\r\n",
    "\r\n",
    "Lmt*1e+3"
   ],
   "outputs": [
    {
     "output_type": "execute_result",
     "data": {
      "text/plain": [
       "3.1580007721515204"
      ]
     },
     "metadata": {},
     "execution_count": 21
    }
   ],
   "metadata": {}
  },
  {
   "cell_type": "code",
   "execution_count": 18,
   "source": [
    "filename = \"input_parameter_v4.csv\"\r\n",
    "\r\n",
    "csv = pandas.read_csv(filename)\r\n",
    "csv = csv.dropna(axis=0).reset_index(drop=True)#drop NaN\r\n",
    "\r\n",
    "N1 = csv.N1\r\n",
    "N2 = csv.N2\r\n",
    "space1 = csv.space1\r\n",
    "space2 = csv.space2\r\n",
    "l1 = csv.l1\r\n",
    "l2 = csv.l2\r\n",
    "h1 = csv.h1\r\n",
    "w1 = csv.w1"
   ],
   "outputs": [],
   "metadata": {}
  },
  {
   "cell_type": "code",
   "execution_count": 19,
   "source": [
    "solution_v1 = [[0 for col in range(5)] for row in range(len(l1))]\r\n",
    "solution_v2 = [[0 for col in range(5)] for row in range(len(l1))]\r\n",
    "solution_v3 = [[0 for col in range(5)] for row in range(len(l1))]\r\n",
    "solution_v4 = [[0 for col in range(5)] for row in range(len(l1))]\r\n",
    "\r\n",
    "for i in range(0,len(l1)) :\r\n",
    "\r\n",
    "    param = [[N1[i],N2[i],space1[i],space2[i],l1[i], l2[i], h1[i], w1[i]]]\r\n",
    "    param2 = pandas.DataFrame(param,columns=[\"N1\",\"N2\",\"space1\",\"space2\",\"l1\", \"l2\", \"h1\", \"w1\"])\r\n",
    "\r\n",
    "    #test = ML_model_v1_num1.predict(param2)\r\n",
    "    \r\n",
    "    solution_v1[i][0] = ML_model_v1_num1.predict(param2)[0]\r\n",
    "    solution_v1[i][1] = ML_model_v1_num2.predict(param2)[0]\r\n",
    "    solution_v1[i][2] = ML_model_v1_num3.predict(param2)[0]\r\n",
    "    solution_v1[i][3] = ML_model_v1_num4.predict(param2)[0]\r\n",
    "    solution_v1[i][4] = ML_model_v1_num5.predict(param2)[0]\r\n",
    "\r\n",
    "    solution_v2[i][0] = ML_model_v2_num1.predict(param2)[0]\r\n",
    "    solution_v2[i][1] = ML_model_v2_num2.predict(param2)[0]\r\n",
    "    solution_v2[i][2] = ML_model_v2_num3.predict(param2)[0]\r\n",
    "    solution_v2[i][3] = ML_model_v2_num4.predict(param2)[0]\r\n",
    "    solution_v2[i][4] = ML_model_v2_num5.predict(param2)[0]\r\n",
    "\r\n",
    "    solution_v3[i][0] = ML_model_v3_num1.predict(param2)[0]\r\n",
    "    solution_v3[i][1] = ML_model_v3_num2.predict(param2)[0]\r\n",
    "    solution_v3[i][2] = ML_model_v3_num3.predict(param2)[0]\r\n",
    "    solution_v3[i][3] = ML_model_v3_num4.predict(param2)[0]\r\n",
    "    solution_v3[i][4] = ML_model_v3_num5.predict(param2)[0]\r\n",
    "\r\n",
    "    solution_v4[i][0] = ML_model_v4_num1.predict(param2)[0]\r\n",
    "    solution_v4[i][1] = ML_model_v4_num2.predict(param2)[0]\r\n",
    "    solution_v4[i][2] = ML_model_v4_num3.predict(param2)[0]\r\n",
    "    solution_v4[i][3] = ML_model_v4_num4.predict(param2)[0]\r\n",
    "    solution_v4[i][4] = ML_model_v4_num5.predict(param2)[0]\r\n",
    "\r\n",
    "\r\n",
    "pd_solution_v1 = pandas.DataFrame(solution_v1,columns=[\"Lmt\", \"Lmr\", \"Llk\", \"Rt\", \"Rr\"])\r\n",
    "pd_solution_v2 = pandas.DataFrame(solution_v2,columns=[\"Lmt\", \"Lmr\", \"Llk\", \"Rt\", \"Rr\"])\r\n",
    "pd_solution_v3 = pandas.DataFrame(solution_v3,columns=[\"Lmt\", \"Lmr\", \"Llk\", \"Rt\", \"Rr\"])\r\n",
    "pd_solution_v4 = pandas.DataFrame(solution_v4,columns=[\"Lmt\", \"Lmr\", \"Llk\", \"Rt\", \"Rr\"])\r\n",
    "\r\n",
    "\r\n",
    "pd_solution_v1.to_csv(\"solution_v1.csv\")\r\n",
    "pd_solution_v2.to_csv(\"solution_v2.csv\")\r\n",
    "pd_solution_v3.to_csv(\"solution_v3.csv\")\r\n",
    "pd_solution_v4.to_csv(\"solution_v4.csv\")\r\n",
    "\r\n"
   ],
   "outputs": [],
   "metadata": {}
  },
  {
   "cell_type": "code",
   "execution_count": null,
   "source": [],
   "outputs": [],
   "metadata": {}
  }
 ]
}