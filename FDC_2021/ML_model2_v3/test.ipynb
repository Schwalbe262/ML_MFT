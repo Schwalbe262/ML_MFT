{
 "cells": [
  {
   "cell_type": "code",
   "execution_count": 12,
   "source": [
    "V1 = 1000\r\n",
    "X2V1 = 1000\r\n",
    "X3V1 = 1000\r\n",
    "X4V1 = 1000\r\n",
    "\r\n",
    "filename = f'C:\\\\script_C1\\\\NSGA2_data_2021_08_11_v1_N1000.csv'\r\n",
    "\r\n",
    "csv = pandas.read_csv(filename)\r\n",
    "csv = csv.dropna(axis=0).reset_index(drop=True)#drop NaN\r\n",
    "\r\n",
    "N1 = csv.N1[version_idx_str]\r\n",
    "N2 = csv.N2[version_idx_str]\r\n",
    "d1 = csv.d1[version_idx_str]\r\n",
    "d2 = csv.d2[version_idx_str]\r\n",
    "freq = csv.freq[version_idx_str]\r\n",
    "per = csv.per[version_idx_str]\r\n",
    "move_tx = csv.move_tx[version_idx_str]\r\n",
    "move_rx = csv.move_rx[version_idx_str]\r\n",
    "offset_tx = csv.offset_tx[version_idx_str]\r\n",
    "offset_rx = csv.offset_rx[version_idx_str]\r\n",
    "space1 = csv.space1[version_idx_str]\r\n",
    "space2 = csv.space2[version_idx_str]\r\n",
    "space3 = csv.space3[version_idx_str]\r\n",
    "space4 = csv.space4[version_idx_str]\r\n",
    "space5 = csv.space5[version_idx_str]\r\n",
    "space6 = csv.space6[version_idx_str]\r\n",
    "l1 = csv.l1[version_idx_str]\r\n",
    "l2 = csv.l2[version_idx_str]\r\n",
    "h1 = csv.h1[version_idx_str]+2\r\n",
    "w1 = csv.w1[version_idx_str]\r\n",
    "I1 = csv.I1[version_idx_str]\r\n",
    "I2 = csv.I2[version_idx_str]\r\n",
    "\r\n",
    "N1 = (round(N1/2))*2\r\n",
    "N2 = (round(N2/2))*2\r\n",
    "\r\n",
    "\r\n",
    "\r\n",
    "N = max(N1,N2)\r\n",
    "NX1 = int(N1/2)\r\n",
    "NY1 = int(NX1+1)\r\n",
    "NX2 = int(N2/2)\r\n",
    "NY2 = int(NX2+1)"
   ],
   "outputs": [
    {
     "output_type": "execute_result",
     "data": {
      "text/plain": [
       "dtype('float64')"
      ]
     },
     "metadata": {},
     "execution_count": 12
    }
   ],
   "metadata": {}
  }
 ],
 "metadata": {
  "orig_nbformat": 4,
  "language_info": {
   "name": "python",
   "version": "3.8.8",
   "mimetype": "text/x-python",
   "codemirror_mode": {
    "name": "ipython",
    "version": 3
   },
   "pygments_lexer": "ipython3",
   "nbconvert_exporter": "python",
   "file_extension": ".py"
  },
  "kernelspec": {
   "name": "python3",
   "display_name": "Python 3.8.8 64-bit ('NEC_stable': conda)"
  },
  "interpreter": {
   "hash": "ce0a3c3998a9e4d114d0a4ed508ce2ffb5b6f910b2edfcfe97935762ddbe31b9"
  }
 },
 "nbformat": 4,
 "nbformat_minor": 2
}