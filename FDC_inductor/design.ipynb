{
 "cells": [
  {
   "cell_type": "code",
   "execution_count": null,
   "metadata": {},
   "outputs": [],
   "source": [
    "w1 = 21e-3\n",
    "l1 = 8.6e-3\n",
    "l2 = 10.15e-3\n",
    "h1 = 37e-3\n",
    "\n",
    "gap = 1e-3\n",
    "\n",
    "N1 = 5\n",
    "\n"
   ]
  }
 ],
 "metadata": {
  "kernelspec": {
   "display_name": "Python 3.9.7 ('base')",
   "language": "python",
   "name": "python3"
  },
  "language_info": {
   "name": "python",
   "version": "3.9.7"
  },
  "orig_nbformat": 4,
  "vscode": {
   "interpreter": {
    "hash": "8da4477703876d500cf8baf6994f82f0bcfa0af6be6c87702f8e0e27eb375596"
   }
  }
 },
 "nbformat": 4,
 "nbformat_minor": 2
}
