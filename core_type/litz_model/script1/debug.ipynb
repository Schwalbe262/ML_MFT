{
 "cells": [
  {
   "cell_type": "code",
   "execution_count": 1,
   "metadata": {},
   "outputs": [],
   "source": [
    "import yaml\n",
    "import os\n",
    "import subprocess\n",
    "import random\n",
    "import csv\n",
    "import time\n",
    "import csv\n",
    "import numpy as np\n",
    "import math\n",
    "import pandas as pd\n",
    "import shutil\n",
    "\n",
    "import matplotlib.pyplot as plt"
   ]
  },
  {
   "cell_type": "code",
   "execution_count": 2,
   "metadata": {},
   "outputs": [],
   "source": [
    "def random_choice(X) :\n",
    "    return round(np.random.choice( np.arange( X[0] , X[1]+X[2] , X[2]) ),X[3])"
   ]
  },
  {
   "cell_type": "code",
   "execution_count": 3,
   "metadata": {},
   "outputs": [],
   "source": [
    "N1_range = [2,12,1,0]\n",
    "\n",
    "w1_range = [20, 200, 5, 0] # under, upper, resolution\n",
    "l1_range = [10, 50, 5, 0]\n",
    "l2_range = [40, 100, 5, 0]\n",
    "h1_range = [50, 130, 5, 0]\n",
    "\n",
    "space1_range = [5, 50, 5, 0] \n",
    "space2_range = [5, 50, 5, 0] \n",
    "space3_range = [5, 50, 5, 0] \n",
    "space4_range = [5, 50, 5, 0] \n",
    "\n",
    "coil_width1_range = [3, 10, 1, 0] \n",
    "coil_width2_range = [3, 10, 1, 0] \n",
    "\n",
    "move_z1_range = [1,5,1,0]\n",
    "move_z2_range = [1,5,1,0]\n",
    "\n",
    "offset_z1_range = [-20,20,1,0]\n",
    "offset_z2_range = [-20,20,1,0]"
   ]
  },
  {
   "cell_type": "code",
   "execution_count": 13,
   "metadata": {},
   "outputs": [
    {
     "data": {
      "image/png": "[encoded data removed]",
      "text/plain": [
       "<Figure size 432x288 with 1 Axes>"
      ]
     },
     "metadata": {
      "needs_background": "light"
     },
     "output_type": "display_data"
    }
   ],
   "source": [
    "height_array = []\n",
    "length_array = []\n",
    "h1_array = []\n",
    "\n",
    "temp = []\n",
    "\n",
    "for i in range(10000) : \n",
    "\n",
    "    N1 = random_choice(N1_range)\n",
    "\n",
    "    offset_z1 = random_choice(offset_z1_range)\n",
    "    offset_z2 = random_choice(offset_z2_range)\n",
    "\n",
    "    move_z1 = random_choice(move_z1_range)\n",
    "    move_z2 = random_choice(move_z2_range)\n",
    "\n",
    "    coil_width1 = random_choice(coil_width1_range)\n",
    "    coil_width2 = random_choice(coil_width2_range)\n",
    "\n",
    "    space1 = random_choice(space1_range)\n",
    "    space2 = random_choice(space2_range)\n",
    "    space3 = random_choice(space3_range)\n",
    "    space4 = random_choice(space4_range)\n",
    "\n",
    "    w1 = random_choice(w1_range)\n",
    "    l1 = random_choice(l1_range)\n",
    "\n",
    "    height = max(N1*coil_width1 + (N1-1)*move_z1 + 2*abs(offset_z1), N1*coil_width2 + (N1-1)*move_z2 + 2*abs(offset_z2))\n",
    "    length = coil_width1 + coil_width2 + space2 + space4\n",
    "\n",
    "    if length<l2_range[0] : \n",
    "        l2_range = [length,100,5,0]\n",
    "    elif length>l2_range[1] :\n",
    "        l2_range = [40,length,5,0]\n",
    "    else :\n",
    "        l2_range = [40, 100, 5, 0]\n",
    "\n",
    "    #print(l2_range)\n",
    "    \n",
    "    l2 = random_choice(l2_range)\n",
    "\n",
    "\n",
    "    \n",
    "    if height>h1_range[1] :\n",
    "        h1_range = [h1_range[0],height*1.2,h1_range[2],h1_range[3]]\n",
    "    \n",
    "    h1 = random_choice(h1_range)\n",
    "\n",
    "\n",
    "\n",
    "\n",
    "    height_array.append(height)\n",
    "    length_array.append(length)\n",
    "    h1_array.append(h1)\n",
    "\n",
    "    temp.append(N1)\n",
    "\n",
    "\n",
    "\n",
    "\n",
    "    \n",
    "\n",
    "\n",
    "\n",
    "plt.hist(h1_array, bins=50)\n",
    "#plt.hist(height, bins=50)\n",
    "\n",
    "#plt.hist(temp, bins=50)\n",
    "\n",
    "plt.show()"
   ]
  },
  {
   "cell_type": "code",
   "execution_count": 15,
   "metadata": {},
   "outputs": [
    {
     "data": {
      "image/png": "[encoded data removed]",
      "text/plain": [
       "<Figure size 432x288 with 1 Axes>"
      ]
     },
     "metadata": {
      "needs_background": "light"
     },
     "output_type": "display_data"
    }
   ],
   "source": [
    "temp = []\n",
    "\n",
    "for i in range(10000) : \n",
    "\n",
    "    coil_width1_range = [2, 10, 0.5, 1] \n",
    "    coil_width1 = random_choice(coil_width1_range)\n",
    "\n",
    "\n",
    "    temp.append(coil_width1)\n",
    "\n",
    "plt.hist(temp, bins=50)\n",
    "#plt.hist(height, bins=50)\n",
    "\n",
    "#plt.hist(temp, bins=50)\n",
    "\n",
    "plt.show()\n",
    "\n",
    "\n",
    "    "
   ]
  },
  {
   "cell_type": "code",
   "execution_count": 50,
   "metadata": {},
   "outputs": [
    {
     "data": {
      "text/plain": [
       "array([  1.        ,   2.        ,   3.        ,   4.        ,\n",
       "         5.        ,   6.        ,   1.        ,   2.        ,\n",
       "         3.        ,   4.        ,   1.        ,   2.        ,\n",
       "         1.        ,   2.        ,   1.        ,   2.        ,\n",
       "         1.        ,   2.        , 202.0859485 , 205.63168589,\n",
       "       260.411031  , 261.27354495])"
      ]
     },
     "execution_count": 50,
     "metadata": {},
     "output_type": "execute_result"
    }
   ],
   "source": [
    "version_idx_str = 6\n",
    "\n",
    "temp1 = pd.read_csv(f'.\\debug\\ML_data\\magnetizing_inductance{version_idx_str}.csv', sep=\",\")\n",
    "if temp1.columns[1] == \"Matrix1.CplCoef(Tx,Rx)^2 * Matrix1.L(Tx,Tx) [mH]\" :\n",
    "    temp1 = temp1.to_numpy()\n",
    "    temp1[:,1] = temp1[:,1]*1000\n",
    "    temp1[:,2] = temp1[:,2]*1000\n",
    "else :\n",
    "    temp1 = temp1.to_numpy()\n",
    "\n",
    "temp2 = pd.read_csv(f'.\\debug\\ML_data\\leakage_inductance{version_idx_str}.csv', sep=\",\")\n",
    "if temp2.columns[1] == \"(1-Matrix1.CplCoef(Tx,Rx)^2) * Matrix1.L(Tx,Tx) [nH]]\" :\n",
    "    temp2 = temp2.to_numpy()\n",
    "    temp2[:,1] = temp2[:,1]/1000\n",
    "    temp2[:,2] = temp2[:,2]/1000\n",
    "else :\n",
    "    temp2 = temp2.to_numpy()\n",
    "\n",
    "temp3 = pd.read_csv(f'.\\debug\\ML_data\\litz_Tx_loss{version_idx_str}.csv', sep=\",\")\n",
    "if temp3.columns[1] == \"StrandedLoss [kW]\" :\n",
    "    temp3 = temp3.to_numpy()\n",
    "    temp3 = temp3[0][1:3] * 1000\n",
    "else : \n",
    "    temp3 = temp3.to_numpy()\n",
    "    temp3 = temp3[0][1:3]\n",
    "\n",
    "temp4 = pd.read_csv(f'.\\debug\\ML_data\\litz_Rx_loss{version_idx_str}.csv', sep=\",\")\n",
    "if temp4.columns[1] == \"StrandedLoss [kW]\" :\n",
    "    temp4 = temp4.to_numpy()\n",
    "    temp4 = temp4[0][1:3] * 1000\n",
    "else : \n",
    "    temp4 = temp4.to_numpy()\n",
    "    temp4 = temp4[0][1:3]\n",
    "\n",
    "[N1,w1,l1,l2,h1,per,space1,space2,space3,space4,coil_width1,coil_width2,move_z1,move_z2,offset_z1,offset_z2,strand1,strand2] = [1,2,3,4,5,6,1,2,3,4,1,2,1,2,1,2,1,2]\n",
    "\n",
    "parameter1 = np.array([N1,w1,l1,l2,h1,per,space1,space2,space3,space4,coil_width1,coil_width2,move_z1,move_z2,offset_z1,offset_z2])\n",
    "parameter2 = np.array([N1,w1,l1,l2,h1,per,space1,space2,space3,space4,coil_width1,coil_width2,strand1,strand2,move_z1,move_z2,offset_z1,offset_z2])\n",
    "\n",
    "temp1 = np.append(parameter1,temp1)\n",
    "temp2 = np.append(parameter1,temp2)\n",
    "temp3 = np.append(parameter2,temp3)\n",
    "temp3 = np.append(temp3,temp4)"
   ]
  },
  {
   "cell_type": "code",
   "execution_count": null,
   "metadata": {},
   "outputs": [],
   "source": [
    "\n",
    "    \n",
    "\n",
    "\n",
    "\n",
    "\n",
    "    \n",
    "\n",
    "\n"
   ]
  }
 ],
 "metadata": {
  "interpreter": {
   "hash": "13a47bde62bbf8005597c4ab10080ebebbab7e217c13d69b14f7ae430b1bc1c1"
  },
  "kernelspec": {
   "display_name": "Python 3.8.8 ('NEC_Stable')",
   "language": "python",
   "name": "python3"
  },
  "language_info": {
   "codemirror_mode": {
    "name": "ipython",
    "version": 3
   },
   "file_extension": ".py",
   "mimetype": "text/x-python",
   "name": "python",
   "nbconvert_exporter": "python",
   "pygments_lexer": "ipython3",
   "version": "3.8.8"
  },
  "orig_nbformat": 4
 },
 "nbformat": 4,
 "nbformat_minor": 2
}
