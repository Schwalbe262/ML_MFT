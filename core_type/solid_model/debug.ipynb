{
 "cells": [
  {
   "cell_type": "code",
   "execution_count": 1,
   "metadata": {},
   "outputs": [],
   "source": [
    "import yaml\n",
    "import os\n",
    "import subprocess\n",
    "import random\n",
    "import csv\n",
    "import time\n",
    "import csv\n",
    "import numpy as np\n",
    "import math\n",
    "import pandas\n",
    "import shutil\n",
    "\n",
    "#from pycaret.regression import load_model\n",
    "\n",
    "\n",
    "\t\t\t\t\t\t\t\t\t\t\t\t\t\t\t\t\t\t\t\t\t\t\t\t\t\t\t\t\t\t\t\t\t\t\t\t\t\t\t\t\t\t\t\t\t\t\t\t\n",
    "\n",
    "REFERENCE_SCRIPT_FILE_NAME = f'run_ansys_ref.py'\n",
    "\n",
    "def random_choice(X) :\n",
    "    return round(np.random.choice( np.arange( X[0] , X[1]+X[2] , X[2]) ),X[3])"
   ]
  },
  {
   "cell_type": "code",
   "execution_count": 82,
   "metadata": {},
   "outputs": [
    {
     "name": "stdout",
     "output_type": "stream",
     "text": [
      "625\n",
      "225.0\n",
      "2700\n",
      "1400.0\n"
     ]
    }
   ],
   "source": [
    "move_range = [0.05, 0.4, 0.025, 3] # under, upper, resolution, 소수점자리수\n",
    "width0_range = [250, 1000, 25, 0]\n",
    "width1_range = [100, 1000, 25, 0]\n",
    "\n",
    "height0_range = [2500, 8000, 100, 0]\n",
    "height1_range = [1000, 3500, 100, 0]\n",
    "\n",
    "gap0_range = [25, 150, 5, 0]\n",
    "gap1_range = [25, 150, 5 ,0]\n",
    "\n",
    "coil0_width_range = [10, 20, 1 ,0]\n",
    "coil1_width_range = [10, 20, 1 ,0]\n",
    "\n",
    "\n",
    "# Design 1\n",
    "\n",
    "move = random_choice(move_range) \n",
    "width0 = random_choice(width0_range) \n",
    "print(width0)\n",
    "width1_range = [100, width0/2, 25, 0]\n",
    "width1 = random_choice(width1_range) \n",
    "print(width1)\n",
    "\n",
    "height0 = random_choice(height0_range) \n",
    "print(height0)\n",
    "height1_range = [1000, height0/2, 100, 0]\n",
    "height1 = random_choice(height1_range) \n",
    "print(height1)\n",
    "\n",
    "gap0 = random_choice(gap0_range) \n",
    "gap1 = random_choice(gap1_range) \n",
    "\n",
    "coil0_width = random_choice(coil0_width_range) \n",
    "coil1_width = random_choice(coil1_width_range) \n",
    "\n",
    "\n",
    "\n",
    "\n"
   ]
  }
 ],
 "metadata": {
  "interpreter": {
   "hash": "86edb7259d74b4ce866fc66f50c051e6f1827e8d5da7a2cda617d7d01458d7a2"
  },
  "kernelspec": {
   "display_name": "Python 3.9.7 ('base')",
   "language": "python",
   "name": "python3"
  },
  "language_info": {
   "codemirror_mode": {
    "name": "ipython",
    "version": 3
   },
   "file_extension": ".py",
   "mimetype": "text/x-python",
   "name": "python",
   "nbconvert_exporter": "python",
   "pygments_lexer": "ipython3",
   "version": "3.9.7"
  },
  "orig_nbformat": 4
 },
 "nbformat": 4,
 "nbformat_minor": 2
}
