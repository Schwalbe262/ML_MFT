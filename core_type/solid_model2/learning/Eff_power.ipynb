{
 "cells": [
  {
   "cell_type": "code",
   "execution_count": 6,
   "metadata": {},
   "outputs": [
    {
     "name": "stderr",
     "output_type": "stream",
     "text": [
      "<frozen importlib._bootstrap>:219: RuntimeWarning: scipy._lib.messagestream.MessageStream size changed, may indicate binary incompatibility. Expected 56 from C header, got 64 from PyObject\n"
     ]
    }
   ],
   "source": [
    "# import library\n",
    "import pandas\n",
    "import numpy as np\n",
    "import math\n",
    "import matplotlib.pyplot as plt\n",
    "\n",
    "import pymoo\n",
    "from pymoo.model.problem import Problem\n",
    "\n",
    "import pandas as pd\n",
    "\n",
    "\n",
    "import joblib"
   ]
  },
  {
   "cell_type": "code",
   "execution_count": 8,
   "metadata": {},
   "outputs": [
    {
     "ename": "FileNotFoundError",
     "evalue": "[Errno 2] No such file or directory: 'leakage_inductance_0627.pkl'",
     "output_type": "error",
     "traceback": [
      "\u001b[1;31m---------------------------------------------------------------------------\u001b[0m",
      "\u001b[1;31mFileNotFoundError\u001b[0m                         Traceback (most recent call last)",
      "\u001b[1;32mc:\\Users\\NEC_5950X\\UOS\\NEC - 문서\\General\\git\\ML_MFT\\core_type\\solid_model2\\learning\\Eff_power.ipynb Cell 2'\u001b[0m in \u001b[0;36m<cell line: 5>\u001b[1;34m()\u001b[0m\n\u001b[0;32m      <a href='vscode-notebook-cell:/c%3A/Users/NEC_5950X/UOS/NEC%20-%20%EB%AC%B8%EC%84%9C/General/git/ML_MFT/core_type/solid_model2/learning/Eff_power.ipynb#ch0000001?line=0'>1</a>\u001b[0m \u001b[39m# import ML model\u001b[39;00m\n\u001b[0;32m      <a href='vscode-notebook-cell:/c%3A/Users/NEC_5950X/UOS/NEC%20-%20%EB%AC%B8%EC%84%9C/General/git/ML_MFT/core_type/solid_model2/learning/Eff_power.ipynb#ch0000001?line=2'>3</a>\u001b[0m date \u001b[39m=\u001b[39m \u001b[39m\"\u001b[39m\u001b[39m0627\u001b[39m\u001b[39m\"\u001b[39m\n\u001b[1;32m----> <a href='vscode-notebook-cell:/c%3A/Users/NEC_5950X/UOS/NEC%20-%20%EB%AC%B8%EC%84%9C/General/git/ML_MFT/core_type/solid_model2/learning/Eff_power.ipynb#ch0000001?line=4'>5</a>\u001b[0m ML_model_Llt \u001b[39m=\u001b[39m joblib\u001b[39m.\u001b[39;49mload(\u001b[39mf\u001b[39;49m\u001b[39m'\u001b[39;49m\u001b[39mleakage_inductance_\u001b[39;49m\u001b[39m{\u001b[39;49;00mdate\u001b[39m}\u001b[39;49;00m\u001b[39m.pkl\u001b[39;49m\u001b[39m'\u001b[39;49m)\n\u001b[0;32m      <a href='vscode-notebook-cell:/c%3A/Users/NEC_5950X/UOS/NEC%20-%20%EB%AC%B8%EC%84%9C/General/git/ML_MFT/core_type/solid_model2/learning/Eff_power.ipynb#ch0000001?line=5'>6</a>\u001b[0m ML_model_Lmt \u001b[39m=\u001b[39m joblib\u001b[39m.\u001b[39mload(\u001b[39mf\u001b[39m\u001b[39m'\u001b[39m\u001b[39mmagnetizing_inductance_\u001b[39m\u001b[39m{\u001b[39;00mdate\u001b[39m}\u001b[39;00m\u001b[39m.pkl\u001b[39m\u001b[39m'\u001b[39m)\n\u001b[0;32m      <a href='vscode-notebook-cell:/c%3A/Users/NEC_5950X/UOS/NEC%20-%20%EB%AC%B8%EC%84%9C/General/git/ML_MFT/core_type/solid_model2/learning/Eff_power.ipynb#ch0000001?line=6'>7</a>\u001b[0m ML_model_Rt \u001b[39m=\u001b[39m joblib\u001b[39m.\u001b[39mload(\u001b[39mf\u001b[39m\u001b[39m'\u001b[39m\u001b[39mRt_\u001b[39m\u001b[39m{\u001b[39;00mdate\u001b[39m}\u001b[39;00m\u001b[39m.pkl\u001b[39m\u001b[39m'\u001b[39m)\n",
      "File \u001b[1;32mc:\\Users\\NEC_5950X\\anaconda3\\envs\\NEC_stable_network\\lib\\site-packages\\joblib\\numpy_pickle.py:577\u001b[0m, in \u001b[0;36mload\u001b[1;34m(filename, mmap_mode)\u001b[0m\n\u001b[0;32m    575\u001b[0m         obj \u001b[39m=\u001b[39m _unpickle(fobj)\n\u001b[0;32m    576\u001b[0m \u001b[39melse\u001b[39;00m:\n\u001b[1;32m--> 577\u001b[0m     \u001b[39mwith\u001b[39;00m \u001b[39mopen\u001b[39;49m(filename, \u001b[39m'\u001b[39;49m\u001b[39mrb\u001b[39;49m\u001b[39m'\u001b[39;49m) \u001b[39mas\u001b[39;00m f:\n\u001b[0;32m    578\u001b[0m         \u001b[39mwith\u001b[39;00m _read_fileobject(f, filename, mmap_mode) \u001b[39mas\u001b[39;00m fobj:\n\u001b[0;32m    579\u001b[0m             \u001b[39mif\u001b[39;00m \u001b[39misinstance\u001b[39m(fobj, \u001b[39mstr\u001b[39m):\n\u001b[0;32m    580\u001b[0m                 \u001b[39m# if the returned file object is a string, this means we\u001b[39;00m\n\u001b[0;32m    581\u001b[0m                 \u001b[39m# try to load a pickle file generated with an version of\u001b[39;00m\n\u001b[0;32m    582\u001b[0m                 \u001b[39m# Joblib so we load it with joblib compatibility function.\u001b[39;00m\n",
      "\u001b[1;31mFileNotFoundError\u001b[0m: [Errno 2] No such file or directory: 'leakage_inductance_0627.pkl'"
     ]
    }
   ],
   "source": [
    "# import ML model\n",
    "\n",
    "date = \"0627\"\n",
    "\n",
    "ML_model_Llt = joblib.load(f'leakage_inductance_{date}.pkl')\n",
    "ML_model_Lmt = joblib.load(f'magnetizing_inductance_{date}.pkl')\n",
    "ML_model_Rt = joblib.load(f'Rt_{date}.pkl')\n",
    "ML_model_Rr = joblib.load(f'Rr_{date}.pkl')"
   ]
  },
  {
   "cell_type": "code",
   "execution_count": 55,
   "metadata": {},
   "outputs": [
    {
     "data": {
      "text/plain": [
       "Text(0, 0.5, 'efficiency [%]')"
      ]
     },
     "execution_count": 55,
     "metadata": {},
     "output_type": "execute_result"
    },
    {
     "data": {
      "image/png": "[encoded data removed]",
      "text/plain": [
       "<Figure size 432x288 with 1 Axes>"
      ]
     },
     "metadata": {
      "needs_background": "light"
     },
     "output_type": "display_data"
    }
   ],
   "source": [
    "X = [[6,70,48,100,59,3500,24,24,8,8,4,3,2,1,1,-13]]\n",
    "\n",
    "X_column = [\"N1\",\"w1\",\"l1\",\"l2\",\"h1\",\"per\",\"space1\",\"space2\",\"space3\",\"space4\",\"coil_width1\",\"coil_width2\",\"move_z1\",\"move_z2\",\"offset_z1\",\"offset_z2\"]\n",
    "X_data = pd.DataFrame(X, columns=X_column)\n",
    "X_data = X_data.astype(float)\n",
    "\n",
    "N1 = X_data[\"N1\"]\n",
    "\n",
    "w1 = X_data[\"w1\"] * 1e-3\n",
    "l1 = X_data[\"l1\"] * 1e-3\n",
    "l2 = X_data[\"l2\"] * 1e-3\n",
    "h1 = X_data[\"h1\"] * 1e-3\n",
    "\n",
    "per = X_data[\"per\"]\n",
    "\n",
    "space1 = X_data[\"space1\"] * 1e-3\n",
    "space2 = X_data[\"space2\"] * 1e-3\n",
    "space3 = X_data[\"space3\"] * 1e-3\n",
    "space4 = X_data[\"space4\"] * 1e-3\n",
    "\n",
    "coil_width1 = X_data[\"coil_width1\"] * 1e-3\n",
    "coil_width2 = X_data[\"coil_width2\"] * 1e-3\n",
    "\n",
    "move_z1 = X_data[\"move_z1\"] * 1e-3\n",
    "move_z2 = X_data[\"move_z2\"] * 1e-3\n",
    "\n",
    "offset_z1 = X_data[\"offset_z1\"] * 1e-3\n",
    "offset_z2 = X_data[\"offset_z2\"] * 1e-3\n",
    "\n",
    "l = 2*l1 + l2 + space2 + space4 + coil_width1/2 + coil_width2/2\n",
    "l_inner = space2 + space4 + coil_width1/2 + coil_width2/2\n",
    "h = 2*l1 + h1\n",
    "wp = 1*w1 + 2*space1 + coil_width1\n",
    "ws = 1*w1 + 2*space3 + coil_width2\n",
    "w = wp\n",
    "\n",
    "hp = (N1+1)*coil_width1 + N1*move_z1 + 2*abs(offset_z1)\n",
    "hs = (N1+1)*coil_width2 + N1*move_z2 + 2*abs(offset_z2)\n",
    "\n",
    "\n",
    "V1 = 1036\n",
    "freq = 30e+3\n",
    "\n",
    "Lmt = ML_model_Lmt.predict( X_data )\n",
    "\n",
    "V = l * h * wp\n",
    "\n",
    "V_core = (2*l1+l2)*h*w1 - l2*h*w1\n",
    "\n",
    "mag_current = V1/(2*3.141592*freq)/Lmt\n",
    "Req = N1**2/Lmt\n",
    "flux = N1 * mag_current/Req\n",
    "B = flux / (2*w1*l1)\n",
    "\n",
    "\n",
    "coreloss = []\n",
    "copperloss_tx = []\n",
    "copperloss_rx = []\n",
    "total_loss = []\n",
    "eff = []\n",
    "power_p = []\n",
    "\n",
    "\n",
    "i=0\n",
    "\n",
    "for power in range(10,100) :\n",
    "\n",
    "    I1 = power\n",
    "    I2 = power\n",
    "\n",
    "    coreloss.append(6.5 * (freq/1e+3)**1.51 * B**1.74 * V_core / 1e-3)\n",
    "\n",
    "    copperloss_tx.append(ML_model_Rt.predict( X_data ) * I1**2)\n",
    "    copperloss_rx.append(ML_model_Rr.predict( X_data ) * I2**2)\n",
    "\n",
    "    total_loss.append(coreloss[i] + copperloss_tx[i] + copperloss_rx[i])\n",
    "    eff.append((power*1e+3 - total_loss[i]) / (power*1e+3) * 100)\n",
    "\n",
    "    i = i+1\n",
    "\n",
    "    power_p.append(power)\n",
    "\n",
    "    \n",
    "\n",
    "\n",
    "plt.plot(power_p,eff)\n",
    "plt.xlabel(\"power [kW]\", fontsize=15)\n",
    "plt.ylabel(\"efficiency [%]\", fontsize=15)"
   ]
  },
  {
   "cell_type": "code",
   "execution_count": 73,
   "metadata": {},
   "outputs": [
    {
     "data": {
      "text/plain": [
       "array([[   6,   70,   48,  100,   59, 3500,   24,   24,    8,    8,    4,\n",
       "           3,    2,    1,    1,  -13,    1,  -13],\n",
       "       [   6,   70,   48,  100,   59, 3500,   24,   24,    8,    8,    4,\n",
       "           3,    2,    1,    1,  -13,    1,  -13]])"
      ]
     },
     "execution_count": 73,
     "metadata": {},
     "output_type": "execute_result"
    }
   ],
   "source": [
    "X = np.array([[6,70,48,100,59,3500,24,24,8,8,4,3,2,1,1,-13],[6,70,48,100,59,3500,24,24,8,8,4,3,2,1,1,-13]])\n",
    "\n",
    "\n",
    "#X.concatenate((X,X[:,14:-1]))\n",
    "\n"
   ]
  },
  {
   "cell_type": "code",
   "execution_count": null,
   "metadata": {},
   "outputs": [],
   "source": [
    "\n",
    "V1 = 1036\n",
    "I1 = 100\n",
    "I2 = 100\n",
    "\n",
    "l = 2*l1 + l2 + space2 + space4 + coil_width1/2 + coil_width2/2\n",
    "l_inner = space2 + space4 + coil_width1/2 + coil_width2/2\n",
    "h = 2*l1 + h1\n",
    "wp = 1*w1 + 2*space1 + coil_width1\n",
    "ws = 1*w1 + 2*space3 + coil_width2\n",
    "w = wp\n",
    "\n",
    "hp = (N1+1)*coil_width1 + N1*move_z1 + 2*abs(offset_z1)\n",
    "hs = (N1+1)*coil_width2 + N1*move_z2 + 2*abs(offset_z2)\n",
    "\n",
    "\n",
    "X_column = [\"N1\",\"w1\",\"l1\",\"l2\",\"h1\",\"per\",\"space1\",\"space2\",\"space3\",\"space4\",\"coil_width1\",\"coil_width2\",\"move_z1\",\"move_z2\",\"offset_z1\",\"offset_z2\"]\n",
    "X_data = pd.DataFrame(res.X, columns=X_column)\n",
    "X_data = X_data.astype(float)\n",
    "#X_data = pd.to_numeric(X_data)\n",
    "\n",
    "\n",
    "Lmt = ML_model_Lmt.predict( X_data )\n",
    "\n",
    "V = l * h * wp\n",
    "\n",
    "V_core = (2*l1+l2)*h*w1 - l2*h*w1\n",
    "\n",
    "mag_current = V1/(2*3.141592*freq)/Lmt\n",
    "Req = N1**2/Lmt\n",
    "flux = N1 * mag_current/Req\n",
    "B = flux / (2*w1*l1)\n",
    "\n",
    "#coreloss = core_a * freq**core_x * B**core_y * core_LT * V_core # Core loss [unit : W]\n",
    "\n",
    "coreloss1 = core_a * freq**core_x * B**core_y * core_LT * V_core # Core loss [unit : W]\n",
    "coreloss2 = 6.5 * (freq/1e+3)**1.51 * B**1.74 * V_core / 1e-3\n",
    "\n",
    "coreloss = coreloss2\n",
    "\n",
    "copperloss_tx = ML_model_Rt.predict( X_data ) * I1**2\n",
    "copperloss_rx = ML_model_Rr.predict( X_data ) * I2**2\n",
    "\n",
    "total_loss = coreloss + copperloss_tx + copperloss_rx\n",
    "copperloss = copperloss_tx + copperloss_rx\n",
    "\n",
    "Llt = ML_model_Llt.predict( X_data )\n"
   ]
  },
  {
   "cell_type": "code",
   "execution_count": 5,
   "metadata": {},
   "outputs": [
    {
     "name": "stdout",
     "output_type": "stream",
     "text": [
      "69\n",
      "15\n",
      "13\n"
     ]
    }
   ],
   "source": [
    "N1 = 9\n",
    "coil_width1 = 6\n",
    "coil_width2 = 6\n",
    "move_z1 = 1\n",
    "move_z2 = 1\n",
    "offset_z1 = 0\n",
    "offset_z2 = 1\n",
    "\n",
    "h1 = 84\n",
    "\n",
    "hp = (N1+1)*coil_width1 + N1*move_z1 + 2*abs(offset_z1)\n",
    "hs = (N1+1)*coil_width2 + N1*move_z2 + 2*abs(offset_z2)\n",
    "\n",
    "print(hp)\n",
    "print(h1-hp)\n",
    "print(h1-hs)"
   ]
  }
 ],
 "metadata": {
  "interpreter": {
   "hash": "ab587decbef1e307f9e6a36eccb00cb12208fe39520918bda8dac3a7704ffb7f"
  },
  "kernelspec": {
   "display_name": "Python 3.8.8 ('NEC_stable_network')",
   "language": "python",
   "name": "python3"
  },
  "language_info": {
   "codemirror_mode": {
    "name": "ipython",
    "version": 3
   },
   "file_extension": ".py",
   "mimetype": "text/x-python",
   "name": "python",
   "nbconvert_exporter": "python",
   "pygments_lexer": "ipython3",
   "version": "3.8.13"
  },
  "orig_nbformat": 4
 },
 "nbformat": 4,
 "nbformat_minor": 2
}
