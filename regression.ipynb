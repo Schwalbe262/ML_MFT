{
 "cells": [
  {
   "cell_type": "code",
   "execution_count": 1,
   "metadata": {},
   "outputs": [],
   "source": [
    "#import module\n",
    "\n",
    "import pandas\n",
    "import pycaret\n",
    "import numpy as np\n",
    "import math\n",
    "import matplotlib.pyplot as plt\n",
    "from pycaret.regression import *\n",
    "from sklearn.metrics import r2_score\n",
    "from sklearn.metrics import mean_absolute_error\n",
    "from sklearn.metrics import mean_squared_error\n",
    "\n",
    "from pycaret.regression import load_model\n",
    "\n",
    "import plotly.io as pio\n",
    "pio.renderers.default = 'iframe_connected'\n",
    "\n",
    "import time"
   ]
  },
  {
   "cell_type": "code",
   "execution_count": 2,
   "metadata": {},
   "outputs": [],
   "source": [
    "#import module2\n",
    "\n",
    "from py_module.load_data import load_data\n",
    "from py_module.plot_data import plot_histogram"
   ]
  },
  {
   "cell_type": "code",
   "execution_count": 3,
   "metadata": {},
   "outputs": [],
   "source": [
    "# import raw_data (from csv file)\n",
    "\n",
    "filename = \"./Data_2021_10_14_v1 (N98923)/Data.csv\" # csv file directory and name\n",
    "\n",
    "raw_data = load_data(fn=filename, pp=1)\n"
   ]
  },
  {
   "cell_type": "code",
   "execution_count": 18,
   "metadata": {},
   "outputs": [
    {
     "data": {
      "image/png": "[encoded data removed]",
      "text/plain": [
       "<Figure size 432x360 with 1 Axes>"
      ]
     },
     "metadata": {
      "needs_background": "light"
     },
     "output_type": "display_data"
    }
   ],
   "source": [
    "# plot raw_data histogram\n",
    "\n",
    "# - parameter\n",
    "# input : N1, N2, d1, d2, freq, move_tx, move_rx, offset_tx, offset_rx, per, space1, space2, space3, space4, l1, l2, h1, w1\n",
    "# output : Lmt, Lmr, Llt, Llr, k, R1, R2\n",
    "\n",
    "# - opt\n",
    "# bins : (default : 100)\n",
    "# plt_size : (default : [6,5])\n",
    "# grid_en : (default : False)\n",
    "# title_en : (default : False)\n",
    "# title : (default : \"\")\n",
    "# fontsize : (default : {}) (see : https://www.delftstack.com/ko/howto/matplotlib/how-to-set-the-figure-title-and-axes-labels-font-size-in-matplotlib/)\n",
    "\n",
    "parameter = \"Lmt\"\n",
    "title = parameter\n",
    "fontsize = {'axes.titlesize' : 25, 'xtick.labelsize' : 15, 'ytick.labelsize' : 15}\n",
    "\n",
    "\n",
    "plot_histogram(raw_data, parameter, grid_en=True, title_en=True, title=title, fontsize=fontsize)\n"
   ]
  },
  {
   "cell_type": "code",
   "execution_count": null,
   "metadata": {},
   "outputs": [],
   "source": []
  }
 ],
 "metadata": {
  "interpreter": {
   "hash": "98c6813742efedcf8d94dc83a34d7165409590a92a0444345b4287e4a873f3c6"
  },
  "kernelspec": {
   "display_name": "Python 3.8.8 64-bit ('NEC_stable': conda)",
   "name": "python3"
  },
  "language_info": {
   "codemirror_mode": {
    "name": "ipython",
    "version": 3
   },
   "file_extension": ".py",
   "mimetype": "text/x-python",
   "name": "python",
   "nbconvert_exporter": "python",
   "pygments_lexer": "ipython3",
   "version": "3.8.8"
  },
  "orig_nbformat": 4
 },
 "nbformat": 4,
 "nbformat_minor": 2
}
