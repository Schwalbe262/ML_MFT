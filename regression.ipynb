{
 "cells": [
  {
   "cell_type": "code",
   "execution_count": 14,
   "metadata": {},
   "outputs": [],
   "source": [
    "#import module\n",
    "\n",
    "import pandas\n",
    "import pycaret\n",
    "import numpy as np\n",
    "import math\n",
    "import matplotlib.pyplot as plt\n",
    "from pycaret.regression import *\n",
    "from sklearn.metrics import r2_score\n",
    "from sklearn.metrics import mean_absolute_error\n",
    "from sklearn.metrics import mean_squared_error\n",
    "\n",
    "from pycaret.regression import load_model\n",
    "\n",
    "import plotly.io as pio\n",
    "pio.renderers.default = 'iframe_connected'\n",
    "\n",
    "import time"
   ]
  },
  {
   "cell_type": "code",
   "execution_count": null,
   "metadata": {},
   "outputs": [],
   "source": [
    "# import data\n",
    "\n",
    "filename = \"./Data_2021_10_14_v1 (N98923)/Data.csv\"\n",
    "\n",
    "raw_data = load_data(filename=fn, pp=1)"
   ]
  }
 ],
 "metadata": {
  "interpreter": {
   "hash": "98c6813742efedcf8d94dc83a34d7165409590a92a0444345b4287e4a873f3c6"
  },
  "kernelspec": {
   "display_name": "Python 3.8.8 64-bit ('NEC_stable': conda)",
   "name": "python3"
  },
  "language_info": {
   "codemirror_mode": {
    "name": "ipython",
    "version": 3
   },
   "file_extension": ".py",
   "mimetype": "text/x-python",
   "name": "python",
   "nbconvert_exporter": "python",
   "pygments_lexer": "ipython3",
   "version": "3.8.8"
  },
  "orig_nbformat": 4
 },
 "nbformat": 4,
 "nbformat_minor": 2
}
