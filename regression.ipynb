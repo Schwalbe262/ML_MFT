{
 "cells": [
  {
   "cell_type": "code",
   "execution_count": 1,
   "metadata": {},
   "outputs": [],
   "source": [
    "#import module (library)\n",
    "\n",
    "import pandas\n",
    "import pycaret\n",
    "import numpy as np\n",
    "import math\n",
    "import matplotlib.pyplot as plt\n",
    "from pycaret.regression import *\n",
    "from sklearn.metrics import r2_score\n",
    "from sklearn.metrics import mean_absolute_error\n",
    "from sklearn.metrics import mean_squared_error\n",
    "\n",
    "from pycaret.regression import load_model\n",
    "\n",
    "import plotly.io as pio\n",
    "pio.renderers.default = 'iframe_connected'\n",
    "\n",
    "import time"
   ]
  },
  {
   "cell_type": "code",
   "execution_count": 2,
   "metadata": {},
   "outputs": [],
   "source": [
    "#import module (user defined function)\n",
    "\n",
    "from py_module.load_data import load_data\n",
    "from py_module.plot_data import plot_histogram\n",
    "from py_module.regression import regression_basic\n",
    "from py_module.pre_processing import drop_output"
   ]
  },
  {
   "cell_type": "code",
   "execution_count": 3,
   "metadata": {},
   "outputs": [],
   "source": [
    "# import raw_data (from csv file)\n",
    "\n",
    "filename = \"./Data_2021_10_14_v1 (N98923)/Data.csv\" # csv file directory and name\n",
    "\n",
    "raw_data = load_data(fn=filename, pp=1)\n"
   ]
  },
  {
   "cell_type": "code",
   "execution_count": 13,
   "metadata": {},
   "outputs": [
    {
     "data": {
      "image/png": "[encoded data removed]",
      "text/plain": [
       "<Figure size 288x216 with 1 Axes>"
      ]
     },
     "metadata": {
      "needs_background": "light"
     },
     "output_type": "display_data"
    }
   ],
   "source": [
    "# plot raw_data histogram (for data pre-process / option-task)\n",
    "\n",
    "# - parameter\n",
    "# input : N1, N2, d1, d2, freq, move_tx, move_rx, offset_tx, offset_rx, per, space1, space2, space3, space4, l1, l2, h1, w1\n",
    "# output : Lmt, Lmr, Llt, Llr, k, R1, R2\n",
    "\n",
    "# - opt\n",
    "# bins : (default : 100)\n",
    "# plt_size : (default : [6,5])\n",
    "# grid_en : (default : False)\n",
    "# title_en : (default : False)\n",
    "# title : (default : \"\")\n",
    "# fontsize : (default : {}) (see : https://www.delftstack.com/ko/howto/matplotlib/how-to-set-the-figure-title-and-axes-labels-font-size-in-matplotlib/)\n",
    "\n",
    "parameter = \"Lmt\" # desired parameter as a histogram\n",
    "title = parameter \n",
    "fontsize = {'axes.titlesize' : 20, 'xtick.labelsize' : 10, 'ytick.labelsize' : 10}\n",
    "\n",
    "\n",
    "plot_histogram(raw_data, parameter, plt_size=[4,3], grid_en=True, title_en=True, title=title, fontsize=fontsize)"
   ]
  },
  {
   "cell_type": "code",
   "execution_count": 11,
   "metadata": {},
   "outputs": [],
   "source": [
    "# drop output data except for target output\n",
    "\n",
    "parameter = \"Lmt\" # target output pamareter\n",
    "\n",
    "processed_data = drop_output(raw_data, parameter)"
   ]
  },
  {
   "cell_type": "code",
   "execution_count": 9,
   "metadata": {},
   "outputs": [
    {
     "data": {
      "text/html": [
       "<style type=\"text/css\">\n",
       "#T_11f60_row10_col0, #T_11f60_row10_col1, #T_11f60_row10_col2, #T_11f60_row10_col3, #T_11f60_row10_col4, #T_11f60_row10_col5 {\n",
       "  background: yellow;\n",
       "}\n",
       "</style>\n",
       "<table id=\"T_11f60_\">\n",
       "  <thead>\n",
       "    <tr>\n",
       "      <th class=\"blank level0\" >&nbsp;</th>\n",
       "      <th class=\"col_heading level0 col0\" >MAE</th>\n",
       "      <th class=\"col_heading level0 col1\" >MSE</th>\n",
       "      <th class=\"col_heading level0 col2\" >RMSE</th>\n",
       "      <th class=\"col_heading level0 col3\" >R2</th>\n",
       "      <th class=\"col_heading level0 col4\" >RMSLE</th>\n",
       "      <th class=\"col_heading level0 col5\" >MAPE</th>\n",
       "    </tr>\n",
       "  </thead>\n",
       "  <tbody>\n",
       "    <tr>\n",
       "      <th id=\"T_11f60_level0_row0\" class=\"row_heading level0 row0\" >0</th>\n",
       "      <td id=\"T_11f60_row0_col0\" class=\"data row0 col0\" >0.1607</td>\n",
       "      <td id=\"T_11f60_row0_col1\" class=\"data row0 col1\" >0.0767</td>\n",
       "      <td id=\"T_11f60_row0_col2\" class=\"data row0 col2\" >0.2770</td>\n",
       "      <td id=\"T_11f60_row0_col3\" class=\"data row0 col3\" >0.9901</td>\n",
       "      <td id=\"T_11f60_row0_col4\" class=\"data row0 col4\" >0.0628</td>\n",
       "      <td id=\"T_11f60_row0_col5\" class=\"data row0 col5\" >0.0972</td>\n",
       "    </tr>\n",
       "    <tr>\n",
       "      <th id=\"T_11f60_level0_row1\" class=\"row_heading level0 row1\" >1</th>\n",
       "      <td id=\"T_11f60_row1_col0\" class=\"data row1 col0\" >0.1568</td>\n",
       "      <td id=\"T_11f60_row1_col1\" class=\"data row1 col1\" >0.0811</td>\n",
       "      <td id=\"T_11f60_row1_col2\" class=\"data row1 col2\" >0.2848</td>\n",
       "      <td id=\"T_11f60_row1_col3\" class=\"data row1 col3\" >0.9895</td>\n",
       "      <td id=\"T_11f60_row1_col4\" class=\"data row1 col4\" >0.0668</td>\n",
       "      <td id=\"T_11f60_row1_col5\" class=\"data row1 col5\" >0.0993</td>\n",
       "    </tr>\n",
       "    <tr>\n",
       "      <th id=\"T_11f60_level0_row2\" class=\"row_heading level0 row2\" >2</th>\n",
       "      <td id=\"T_11f60_row2_col0\" class=\"data row2 col0\" >0.1539</td>\n",
       "      <td id=\"T_11f60_row2_col1\" class=\"data row2 col1\" >0.0528</td>\n",
       "      <td id=\"T_11f60_row2_col2\" class=\"data row2 col2\" >0.2297</td>\n",
       "      <td id=\"T_11f60_row2_col3\" class=\"data row2 col3\" >0.9932</td>\n",
       "      <td id=\"T_11f60_row2_col4\" class=\"data row2 col4\" >0.0573</td>\n",
       "      <td id=\"T_11f60_row2_col5\" class=\"data row2 col5\" >0.0980</td>\n",
       "    </tr>\n",
       "    <tr>\n",
       "      <th id=\"T_11f60_level0_row3\" class=\"row_heading level0 row3\" >3</th>\n",
       "      <td id=\"T_11f60_row3_col0\" class=\"data row3 col0\" >0.1526</td>\n",
       "      <td id=\"T_11f60_row3_col1\" class=\"data row3 col1\" >0.0489</td>\n",
       "      <td id=\"T_11f60_row3_col2\" class=\"data row3 col2\" >0.2212</td>\n",
       "      <td id=\"T_11f60_row3_col3\" class=\"data row3 col3\" >0.9938</td>\n",
       "      <td id=\"T_11f60_row3_col4\" class=\"data row3 col4\" >0.0570</td>\n",
       "      <td id=\"T_11f60_row3_col5\" class=\"data row3 col5\" >0.1020</td>\n",
       "    </tr>\n",
       "    <tr>\n",
       "      <th id=\"T_11f60_level0_row4\" class=\"row_heading level0 row4\" >4</th>\n",
       "      <td id=\"T_11f60_row4_col0\" class=\"data row4 col0\" >0.1528</td>\n",
       "      <td id=\"T_11f60_row4_col1\" class=\"data row4 col1\" >0.0520</td>\n",
       "      <td id=\"T_11f60_row4_col2\" class=\"data row4 col2\" >0.2280</td>\n",
       "      <td id=\"T_11f60_row4_col3\" class=\"data row4 col3\" >0.9932</td>\n",
       "      <td id=\"T_11f60_row4_col4\" class=\"data row4 col4\" >0.0556</td>\n",
       "      <td id=\"T_11f60_row4_col5\" class=\"data row4 col5\" >0.0943</td>\n",
       "    </tr>\n",
       "    <tr>\n",
       "      <th id=\"T_11f60_level0_row5\" class=\"row_heading level0 row5\" >5</th>\n",
       "      <td id=\"T_11f60_row5_col0\" class=\"data row5 col0\" >0.1569</td>\n",
       "      <td id=\"T_11f60_row5_col1\" class=\"data row5 col1\" >0.0639</td>\n",
       "      <td id=\"T_11f60_row5_col2\" class=\"data row5 col2\" >0.2528</td>\n",
       "      <td id=\"T_11f60_row5_col3\" class=\"data row5 col3\" >0.9920</td>\n",
       "      <td id=\"T_11f60_row5_col4\" class=\"data row5 col4\" >0.0585</td>\n",
       "      <td id=\"T_11f60_row5_col5\" class=\"data row5 col5\" >0.0945</td>\n",
       "    </tr>\n",
       "    <tr>\n",
       "      <th id=\"T_11f60_level0_row6\" class=\"row_heading level0 row6\" >6</th>\n",
       "      <td id=\"T_11f60_row6_col0\" class=\"data row6 col0\" >0.1542</td>\n",
       "      <td id=\"T_11f60_row6_col1\" class=\"data row6 col1\" >0.0524</td>\n",
       "      <td id=\"T_11f60_row6_col2\" class=\"data row6 col2\" >0.2288</td>\n",
       "      <td id=\"T_11f60_row6_col3\" class=\"data row6 col3\" >0.9928</td>\n",
       "      <td id=\"T_11f60_row6_col4\" class=\"data row6 col4\" >0.0577</td>\n",
       "      <td id=\"T_11f60_row6_col5\" class=\"data row6 col5\" >0.0973</td>\n",
       "    </tr>\n",
       "    <tr>\n",
       "      <th id=\"T_11f60_level0_row7\" class=\"row_heading level0 row7\" >7</th>\n",
       "      <td id=\"T_11f60_row7_col0\" class=\"data row7 col0\" >0.1608</td>\n",
       "      <td id=\"T_11f60_row7_col1\" class=\"data row7 col1\" >0.0844</td>\n",
       "      <td id=\"T_11f60_row7_col2\" class=\"data row7 col2\" >0.2904</td>\n",
       "      <td id=\"T_11f60_row7_col3\" class=\"data row7 col3\" >0.9895</td>\n",
       "      <td id=\"T_11f60_row7_col4\" class=\"data row7 col4\" >0.0670</td>\n",
       "      <td id=\"T_11f60_row7_col5\" class=\"data row7 col5\" >0.0959</td>\n",
       "    </tr>\n",
       "    <tr>\n",
       "      <th id=\"T_11f60_level0_row8\" class=\"row_heading level0 row8\" >8</th>\n",
       "      <td id=\"T_11f60_row8_col0\" class=\"data row8 col0\" >0.1555</td>\n",
       "      <td id=\"T_11f60_row8_col1\" class=\"data row8 col1\" >0.0527</td>\n",
       "      <td id=\"T_11f60_row8_col2\" class=\"data row8 col2\" >0.2296</td>\n",
       "      <td id=\"T_11f60_row8_col3\" class=\"data row8 col3\" >0.9933</td>\n",
       "      <td id=\"T_11f60_row8_col4\" class=\"data row8 col4\" >0.0575</td>\n",
       "      <td id=\"T_11f60_row8_col5\" class=\"data row8 col5\" >0.0946</td>\n",
       "    </tr>\n",
       "    <tr>\n",
       "      <th id=\"T_11f60_level0_row9\" class=\"row_heading level0 row9\" >9</th>\n",
       "      <td id=\"T_11f60_row9_col0\" class=\"data row9 col0\" >0.1563</td>\n",
       "      <td id=\"T_11f60_row9_col1\" class=\"data row9 col1\" >0.0591</td>\n",
       "      <td id=\"T_11f60_row9_col2\" class=\"data row9 col2\" >0.2430</td>\n",
       "      <td id=\"T_11f60_row9_col3\" class=\"data row9 col3\" >0.9921</td>\n",
       "      <td id=\"T_11f60_row9_col4\" class=\"data row9 col4\" >0.0584</td>\n",
       "      <td id=\"T_11f60_row9_col5\" class=\"data row9 col5\" >0.0972</td>\n",
       "    </tr>\n",
       "    <tr>\n",
       "      <th id=\"T_11f60_level0_row10\" class=\"row_heading level0 row10\" >Mean</th>\n",
       "      <td id=\"T_11f60_row10_col0\" class=\"data row10 col0\" >0.1560</td>\n",
       "      <td id=\"T_11f60_row10_col1\" class=\"data row10 col1\" >0.0624</td>\n",
       "      <td id=\"T_11f60_row10_col2\" class=\"data row10 col2\" >0.2485</td>\n",
       "      <td id=\"T_11f60_row10_col3\" class=\"data row10 col3\" >0.9919</td>\n",
       "      <td id=\"T_11f60_row10_col4\" class=\"data row10 col4\" >0.0599</td>\n",
       "      <td id=\"T_11f60_row10_col5\" class=\"data row10 col5\" >0.0970</td>\n",
       "    </tr>\n",
       "    <tr>\n",
       "      <th id=\"T_11f60_level0_row11\" class=\"row_heading level0 row11\" >SD</th>\n",
       "      <td id=\"T_11f60_row11_col0\" class=\"data row11 col0\" >0.0028</td>\n",
       "      <td id=\"T_11f60_row11_col1\" class=\"data row11 col1\" >0.0128</td>\n",
       "      <td id=\"T_11f60_row11_col2\" class=\"data row11 col2\" >0.0249</td>\n",
       "      <td id=\"T_11f60_row11_col3\" class=\"data row11 col3\" >0.0016</td>\n",
       "      <td id=\"T_11f60_row11_col4\" class=\"data row11 col4\" >0.0039</td>\n",
       "      <td id=\"T_11f60_row11_col5\" class=\"data row11 col5\" >0.0023</td>\n",
       "    </tr>\n",
       "  </tbody>\n",
       "</table>\n"
      ],
      "text/plain": [
       "<pandas.io.formats.style.Styler at 0x22428eaff10>"
      ]
     },
     "metadata": {},
     "output_type": "display_data"
    }
   ],
   "source": [
    "# regression data\n",
    "\n",
    "[model, data_seen, data_unseen] = regression_basic(processed_data, parameter, frac_ratio=0.9, save_en=False, save_model_name=\"model\")"
   ]
  }
 ],
 "metadata": {
  "interpreter": {
   "hash": "98c6813742efedcf8d94dc83a34d7165409590a92a0444345b4287e4a873f3c6"
  },
  "kernelspec": {
   "display_name": "Python 3.8.8 64-bit ('NEC_stable': conda)",
   "name": "python3"
  },
  "language_info": {
   "codemirror_mode": {
    "name": "ipython",
    "version": 3
   },
   "file_extension": ".py",
   "mimetype": "text/x-python",
   "name": "python",
   "nbconvert_exporter": "python",
   "pygments_lexer": "ipython3",
   "version": "3.8.8"
  },
  "orig_nbformat": 4
 },
 "nbformat": 4,
 "nbformat_minor": 2
}
