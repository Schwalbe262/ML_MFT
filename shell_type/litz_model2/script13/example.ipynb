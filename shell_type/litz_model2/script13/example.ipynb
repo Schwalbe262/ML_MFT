{
 "cells": [
  {
   "cell_type": "code",
   "execution_count": 1,
   "metadata": {},
   "outputs": [],
   "source": [
    "import yaml\n",
    "import os\n",
    "import subprocess\n",
    "import random\n",
    "import csv\n",
    "import time\n",
    "import csv\n",
    "import numpy as np\n",
    "import math\n",
    "import pandas as pd\n",
    "import shutil"
   ]
  },
  {
   "cell_type": "code",
   "execution_count": 2,
   "metadata": {},
   "outputs": [],
   "source": [
    "def random_choice(X) :\n",
    "    return round(np.random.choice( np.arange( X[0] , X[1]+X[2] , X[2]) ),X[3])"
   ]
  },
  {
   "cell_type": "code",
   "execution_count": 18,
   "metadata": {},
   "outputs": [],
   "source": [
    "N1_range = [2, 15, 1, 0]\n",
    "\n",
    "w1_range = [20, 200, 1, 0] # under, upper, resolution\n",
    "l1_range = [10, 50, 1, 0]\n",
    "l2_range = [40, 100, 1, 0]\n",
    "h1_range = [50, 130, 1, 0]\n",
    "\n",
    "per_range = [1000,10000,100,0]\n",
    "\n",
    "space1_range = [4, 50, 1, 0] \n",
    "space2_range = [4, 50, 1, 0] \n",
    "space3_range = [4, 50, 1, 0] \n",
    "space4_range = [4, 50, 1, 0] \n",
    "\n",
    "coil_width1_range = [2, 10, 0.1, 1] \n",
    "coil_width2_range = [2, 10, 0.1, 1] \n",
    "\n",
    "move_z1_range = [0.5,5,0.5,1]\n",
    "move_z2_range = [0.5,5,0.5,1]\n",
    "\n",
    "offset_z1_range = [-20,20,0.5,1]\n",
    "offset_z2_range = [-20,20,0.5,1]\n",
    "\n",
    "strand1_range = [0.4,0.5,0.001,2]\n",
    "strand2_range = [0.4,0.5,0.001,2]\n",
    "\n",
    "\n",
    "# Design 1\n",
    "\n",
    "N1 = random_choice(N1_range)\n",
    "\n",
    "offset_z1 = random_choice(offset_z1_range)\n",
    "offset_z2 = random_choice(offset_z2_range)\n",
    "\n",
    "move_z1 = random_choice(move_z1_range)\n",
    "move_z2 = random_choice(move_z2_range)\n",
    "\n",
    "coil_width1 = random_choice(coil_width1_range)\n",
    "coil_width2 = random_choice(coil_width2_range)\n",
    "\n",
    "strand1 = round(coil_width1**2/0.1**2 * random_choice(strand1_range))\n",
    "strand2 = round(coil_width2**2/0.1**2 * random_choice(strand2_range))\n",
    "\n",
    "per = random_choice(per_range)\n",
    "\n",
    "space1 = random_choice(space1_range)\n",
    "space2 = random_choice(space2_range)\n",
    "space3 = random_choice(space3_range)\n",
    "space4 = random_choice(space4_range)\n",
    "\n",
    "w1 = random_choice(w1_range)\n",
    "l1 = random_choice(l1_range)\n",
    "\n",
    "height = max((N1+1)*coil_width1 + (N1)*move_z1 + 2*abs(offset_z1), (N1+1)*coil_width2 + (N1)*move_z2 + 2*abs(offset_z2))\n",
    "length = coil_width1 + coil_width2 + space2 + space4\n",
    "\n",
    "if length>l2_range[0] and length<l2_range[1] :\n",
    "    l2_range = [length+5,l2_range[1],l2_range[2],l2_range[3]]\n",
    "elif length>l2_range[0] and length>l2_range[1] :\n",
    "    l2_range = [length+5,length*1.2,l2_range[2],l2_range[3]]\n",
    "\n",
    "#print(l2_range)\n",
    "\n",
    "l2 = random_choice(l2_range)\n",
    "\n",
    "\n",
    "if height>h1_range[0] and height<h1_range[1] :\n",
    "    h1_range = [height,h1_range[1],h1_range[2],h1_range[3]]\n",
    "if height>h1_range[0] and height>h1_range[1] :\n",
    "    h1_range = [height,height*1.2,h1_range[2],h1_range[3]]\n",
    "\n",
    "h1 = random_choice(h1_range)\n",
    "\n",
    "\n",
    "airx = 5.0 * (w1 + 2*(max(2*space1+coil_width1,2*space3+coil_width2)))\n",
    "airy = 5.0 * (l2 + 2*l1 + 2*(max(space2+coil_width1,space4+coil_width2)))\n",
    "airz = 5.0 * (h1 + 2*l1)"
   ]
  },
  {
   "cell_type": "code",
   "execution_count": 22,
   "metadata": {},
   "outputs": [],
   "source": [
    "version_idx_str = 1\n",
    "\n",
    "config = {\n",
    "        \"$VERSION_IDX_STR\"  :   version_idx_str,\n",
    "        \"$air_x\"  :  airx,\n",
    "        \"$air_y\"  :  airy,\n",
    "        \"$air_z\"  :  airz,\n",
    "        \"$N1\"  :  N1,\n",
    "        \"$w1\"  :  w1,\n",
    "        \"$l1\"  :  l1,\n",
    "        \"$l2\"  :  l2,\n",
    "        \"$h1\"  :  h1,\n",
    "        \"$per\" : per,\n",
    "        \"$space1\"  :  space1,\n",
    "        \"$space2\"  :  space2,\n",
    "        \"$space3\"  :  space3,\n",
    "        \"$space4\"  :  space4,\n",
    "        \"$coil_width1\"  :  coil_width1,\n",
    "        \"$coil_width2\"  :  coil_width2,\n",
    "        \"$strand_Tx\"  :  strand1,\n",
    "        \"$strand_Rx\"  :  strand2,\n",
    "        \"$move_z1\"  :  move_z1,\n",
    "        \"$move_z2\"  :  move_z2,\n",
    "        \"$offset_z1\"  :  offset_z1,\n",
    "        \"$offset_z2\"  :  offset_z2,\n",
    "        #FIXME : add some idt : variables\n",
    "    }"
   ]
  },
  {
   "cell_type": "code",
   "execution_count": 23,
   "metadata": {},
   "outputs": [],
   "source": [
    "#1 Make Folder\n",
    "folder_name = f'SIMUL_{version_idx_str}'\n",
    "os.mkdir(f'.\\ML\\SIMUL_{version_idx_str}')"
   ]
  },
  {
   "cell_type": "code",
   "execution_count": 24,
   "metadata": {},
   "outputs": [],
   "source": [
    "#2 Make Variable info file\n",
    "with open(f'.\\ML\\SIMUL_{version_idx_str}\\info.yaml', \"w\") as info_file:\n",
    "    yaml.dump(config,info_file)"
   ]
  },
  {
   "cell_type": "code",
   "execution_count": 32,
   "metadata": {},
   "outputs": [],
   "source": [
    "REFERENCE_SCRIPT_FILE_NAME = f'run_ansys_ref.py'\n",
    "\n",
    "#3 Make python script file\n",
    "#Load file string\n",
    "ref_script_str = \"\"\n",
    "with open(REFERENCE_SCRIPT_FILE_NAME) as f :\n",
    "    lines = f.readlines()\n",
    "ref_script_str = \"\\n\".join(lines)"
   ]
  },
  {
   "cell_type": "code",
   "execution_count": 33,
   "metadata": {},
   "outputs": [],
   "source": [
    "#Change Identifiers\n",
    "for idt, var in config.items() :\n",
    "    ref_script_str = ref_script_str.replace(idt, str(var))"
   ]
  },
  {
   "cell_type": "code",
   "execution_count": 34,
   "metadata": {},
   "outputs": [],
   "source": [
    "#Save file\n",
    "with open(f'.\\\\ML\\\\SIMUL_{version_idx_str}\\\\run_ansys_{version_idx_str}.py',\"w\") as f :\n",
    "    f.write(ref_script_str)"
   ]
  },
  {
   "cell_type": "code",
   "execution_count": 35,
   "metadata": {},
   "outputs": [],
   "source": [
    "#4 make batch file.\n",
    "filepath2 = os.path.join('ML',folder_name,f'run_bat_{version_idx_str}.bat')\n",
    "with open(f'.\\\\ML\\\\SIMUL_{version_idx_str}\\\\run_bat_{version_idx_str}.bat',\"w\") as f :\n",
    "    f.write(f'\"C:\\\\Program Files\\\\AnsysEM\\\\AnsysEM21.1\\\\Win64\\\\ansysedt.exe\" -iconic -runscriptandexit \".\\\\ML\\SIMUL_{version_idx_str}\\\\run_ansys_{version_idx_str}.py\"')"
   ]
  },
  {
   "cell_type": "code",
   "execution_count": null,
   "metadata": {},
   "outputs": [],
   "source": [
    "workingDir = f'.\\\\ML\\\\SIMUL_{version_idx_str}'\n",
    "executeFile = f'.\\\\ML\\\\SIMUL_{version_idx_str}\\\\run_bat_{version_idx_str}.bat'\n",
    "#os.chdir(workingDir)\n",
    "try :\n",
    "    os.system(executeFile)\n",
    "except :\n",
    "    time.sleep(1)"
   ]
  }
 ],
 "metadata": {
  "kernelspec": {
   "display_name": "Python 3.9.7 ('base')",
   "language": "python",
   "name": "python3"
  },
  "language_info": {
   "codemirror_mode": {
    "name": "ipython",
    "version": 3
   },
   "file_extension": ".py",
   "mimetype": "text/x-python",
   "name": "python",
   "nbconvert_exporter": "python",
   "pygments_lexer": "ipython3",
   "version": "3.9.7"
  },
  "orig_nbformat": 4,
  "vscode": {
   "interpreter": {
    "hash": "8da4477703876d500cf8baf6994f82f0bcfa0af6be6c87702f8e0e27eb375596"
   }
  }
 },
 "nbformat": 4,
 "nbformat_minor": 2
}
